{
 "cells": [
  {
   "cell_type": "code",
   "execution_count": 1,
   "metadata": {},
   "outputs": [],
   "source": [
    "## Questions\n",
    "\n",
    "### Question 1\n",
    "\n",
    "#Describe a commercial project in which you set up and analysed tracking data. What actions came out of this work?\n",
    "\n",
    "## Question 2\n",
    "\n",
    "#List the Top 10 authors by their average rating.\n",
    "\n",
    "#Use any approach you feel comfortable with, but include any scripts with your answer and make sure your working is\n",
    "#clear.\n",
    "\n",
    "#What thoughts do you have on the results?\n",
    "\n",
    "### Question 3\n",
    "\n",
    "#Recommend 10 books similar to \"The Golden Compass\" by Philip Pullman.\n",
    "\n",
    "#Again, you  may use any tools; include scripts and clear workings in your answer.\n"
   ]
  },
  {
   "cell_type": "code",
   "execution_count": 2,
   "metadata": {},
   "outputs": [
    {
     "name": "stdout",
     "output_type": "stream",
     "text": [
      "books.csv Index(['id', 'book_id', 'best_book_id', 'work_id', 'books_count', 'isbn',\n",
      "       'isbn13', 'authors', 'original_publication_year', 'original_title',\n",
      "       'title', 'language_code', 'average_rating', 'ratings_count',\n",
      "       'work_ratings_count', 'work_text_reviews_count', 'ratings_1',\n",
      "       'ratings_2', 'ratings_3', 'ratings_4', 'ratings_5', 'image_url',\n",
      "       'small_image_url'],\n",
      "      dtype='object')\n",
      "book_tags.csv Index(['goodreads_book_id', 'tag_id', 'count'], dtype='object')\n",
      "ratings.csv Index(['book_id', 'user_id', 'rating'], dtype='object')\n",
      "tags.csv Index(['tag_id', 'tag_name'], dtype='object')\n",
      "to_read.csv Index(['user_id', 'book_id'], dtype='object')\n"
     ]
    }
   ],
   "source": [
    "# TO RUN THIS, git clone the report into a folder and point PATH to the `data-scientist\\data` subfolder.\n",
    "\n",
    "PATH = r'C:\\python37\\reedsy\\data-scientist\\data' # TODO request this data from git so notebook works anywhere?\n",
    "import pandas #import csv -- pandas.from_csv() is better as it preserves data types\n",
    "import os\n",
    "import glob\n",
    "from pprint import pprint as pp\n",
    "\n",
    "datasets = {}\n",
    "for filename in glob.glob(PATH+'\\*'):\n",
    "    with open(os.path.join(PATH,filename),'r',encoding='utf8') as f:\n",
    "        #fc = csv.DictReader(f)                \n",
    "        basename = os.path.basename(filename)        \n",
    "        datasets[basename] = pandas.read_csv(filename) # a cleaner importer than python's default 'csv' library\n",
    "        print(basename, datasets[basename].keys())"
   ]
  },
  {
   "cell_type": "code",
   "execution_count": 12,
   "metadata": {},
   "outputs": [
    {
     "name": "stdout",
     "output_type": "stream",
     "text": [
      "5841 unique authors\n",
      "['Suzanne Collins', 'J.K. Rowling', 'Mary GrandPré', 'Stephenie Meyer', 'Harper Lee', 'F. Scott Fitzgerald', 'John Green', 'J.R.R. Tolkien', 'J.D. Salinger', 'Dan Brown', 'Jane Austen', 'Khaled Hosseini', 'Veronica Roth', 'George Orwell', 'Erich Fromm', 'Celâl Üster', 'Anne Frank', 'Eleanor Roosevelt', 'B.M. Mooyaart-Doubleday', 'Stieg Larsson', 'Reg Keeland', 'Rufus Beck', 'Alice Sebold', 'William Golding', 'William Shakespeare', 'Robert           Jackson', 'Gillian Flynn', 'Kathryn Stockett', 'John Steinbeck', 'Arthur Golden', 'E.L. James', 'Paulo Coelho', 'Alan R. Clarke', 'Lois Lowry', 'C.S. Lewis', 'Audrey Niffenegger', 'George R.R. Martin', 'Elizabeth Gilbert', 'Rick Riordan', 'Louisa May Alcott', 'Charlotte Brontë', 'Michael Mason', 'Nicholas Sparks', 'Yann Martel', 'Sara Gruen', 'Markus Zusak', 'Ray Bradbury', 'Shel Silverstein', 'Cassandra Clare', 'Christopher Paolini', 'Douglas Adams', 'Aldous Huxley', 'Sue Monk Kidd', 'Mark Twain', 'John Seelye', 'Guy Cardwell', 'E.B. White', 'Garth Williams', 'Rosemary Wells', 'Mark Haddon', 'Paula Hawkins', 'Philip Pullman', 'Emily Brontë', 'Richard J. Dunn', 'Jodi Picoult', 'Kurt Vonnegut Jr.', 'Margaret Mitchell', 'Stephen Chbosky', 'Orson Scott Card', 'Mary Wollstonecraft Shelley', 'Percy Bysshe Shelley', 'Maurice Hindle', 'Stephen King', 'Helen Fielding', 'Tony Tanner', 'Ros Ballaster', 'Louis Sachar', 'Lauren Weisberger', 'Homer', 'Robert Fagles', 'E.V. Rieu', 'Frédéric Mugler', 'Bernard Knox', 'Antoine de Saint-Exupéry', 'Richard Howard', 'Dom Marcos Barbosa', 'Melina Karakosta', 'Jeannette Walls', 'Jon Krakauer', 'Charles Dickens', 'Richard Maxwell', 'Hablot Knight Browne', 'Michael Crichton', 'John Grisham', 'Elie Wiesel', 'Marion Wiesel', 'William Goldman', 'S.E. Hinton', 'James Dashner', 'Steven D. Levitt']\n",
      "top books\n",
      "[(24812, 4.82, 'The Complete Calvin and Hobbes'),\n",
      " (17332218, 4.77, 'Words of Radiance (The Stormlight Archive, #2)'),\n",
      " (8, 4.77, 'Harry Potter Boxed Set, Books 1-5 (Harry Potter, #1-5)'),\n",
      " (5031805, 4.76, 'ESV Study Bible'),\n",
      " (95602, 4.76, 'Mark of the Lion Trilogy'),\n",
      " (24814, 4.75, \"It's a Magical World: A Calvin and Hobbes Collection\"),\n",
      " (862041, 4.74, 'Harry Potter Boxset (Harry Potter, #1-7)'),\n",
      " (70489, 4.74, \"There's Treasure Everywhere: A Calvin and Hobbes Collection\"),\n",
      " (10, 4.73, 'Harry Potter Collection (Harry Potter, #1-6)'),\n",
      " (59715,\n",
      "  4.73,\n",
      "  'The Authoritative Calvin and Hobbes: A Calvin and Hobbes Treasury')]\n",
      "top authors\n",
      "[('Lane T. Dennis', 4.76, 1),\n",
      " ('Bill Watterson', 4.7, 13),\n",
      " ('Ronald A. Beers', 4.67, 2),\n",
      " ('Kelly Jones', 4.65, 1),\n",
      " ('Daniel Vozzo', 4.65, 1),\n",
      " ('Lee Loughridge', 4.65, 1),\n",
      " ('Steve Oliff', 4.65, 1),\n",
      " ('James E. Talmage', 4.63, 1),\n",
      " ('Hafez', 4.63, 1),\n",
      " ('Angie Thomas', 4.62, 1)]\n"
     ]
    }
   ],
   "source": [
    "# Question 2: List the Top 10 authors by their average rating.\n",
    "#\n",
    "# data source: books.csv (best_book_id, average_rating, title)\n",
    "# aggregate by authors\n",
    "# - split multiple author books into separate records\n",
    "# - filter by: at least 100 reviews\n",
    "# - filter by: dedupe book_id so count editions of a book only once\n",
    "\n",
    "def top_authors(min_ratings=100):\n",
    "    # new data set with all books grouped by author\n",
    "    from collections import defaultdict\n",
    "    authors = defaultdict(list)\n",
    "    for index, book in datasets['books.csv'].iterrows():\n",
    "        if book['ratings_count'] < min_ratings:\n",
    "            continue\n",
    "        \n",
    "        if ', ' in book['authors']:            \n",
    "            for author in book['authors'].split(','): # split authors appart; preserve and duplicate ratings for each\n",
    "                authors[author.strip()].append( book )\n",
    "        else:\n",
    "            authors[book['authors']].append( book )\n",
    "    print(len(list(set(authors))),'unique authors')\n",
    "    print(list(authors.keys())[:100])\n",
    "    \n",
    "    # grand mean: average rating per author, based on average rating per book with at least 100 ratings\n",
    "    grand_means = []\n",
    "    for author,books in authors.items():\n",
    "        avg_rating = round(sum([float(book['average_rating']) for book in books])/len(books),2)\n",
    "        grand_means.append( {'author': author, 'average_rating': avg_rating, 'books': len(books), 'meta': books} )\n",
    "    return grand_means\n",
    "\n",
    "grand_means = top_authors()\n",
    "top10 = sorted(datasets['books.csv'].iterrows(), key=lambda x: float(x[1]['average_rating']), reverse=True)[:10]\n",
    "print('top books')\n",
    "pp([(i['best_book_id'], i['average_rating'], i['title']) for index,i in top10])\n",
    "\n",
    "top10 = sorted(grand_means, key=lambda x: x['average_rating'], reverse=True)[:10]\n",
    "print('top authors')\n",
    "pp([(i['author'], i['average_rating'], i['books']) for i in top10])\n"
   ]
  },
  {
   "cell_type": "code",
   "execution_count": 4,
   "metadata": {},
   "outputs": [
    {
     "name": "stdout",
     "output_type": "stream",
     "text": [
      "Golden Compass id: 119322 tags:\n",
      "[(33165, 'youth'), (33153, 'youngadult'), (33124, 'young-adult-fiction'), (33121, 'young-adult-fantasy'), (33114, 'young-adult'), (33113, 'young'), (33023, 'ya-lit'), (33012, 'ya-fiction'), (33009, 'ya-fantasy'), (32996, 'ya-books'), (32989, 'ya'), (31617, 'urban-fantasy'), (30860, 'to-reread'), (30574, 'to-read'), (30573, 'to-re-read'), (30521, 'to-buy'), (29452, 'teen'), (29011, 'supernatural'), (28610, 'steampunk'), (28300, 'speculative-fiction'), (27199, 'series'), (26897, 'scifi-fantasy'), (26894, 'scifi'), (26842, 'science-fiction-fantasy'), (26837, 'science-fiction'), (26785, 'sci-fi-fantasy'), (26774, 'sci-fi-and-fantasy'), (26771, 'sci-fi'), (25765, 'reread'), (25647, 'religion'), (25151, 'read-in-2015'), (24960, 're-read'), (23442, 'philip-pullman'), (22973, 'paranormal'), (22753, 'owned-books'), (22743, 'owned'), (22689, 'own-it'), (22034, 'novels'), (21989, 'novel'), (20939, 'mystery'), (20849, 'my-library'), (20774, 'my-books'), (19983, 'middle-school'), (19974, 'middle-grade'), (18886, 'magic'), (18367, 'literature'), (18045, 'library'), (17213, 'kindle'), (17129, 'kids-books'), (17124, 'kids'), (16799, 'juvenile'), (15169, 'i-own'), (14435, 'his-dark-materials'), (14361, 'high-fantasy'), (11743, 'fiction'), (11590, 'favourites'), (11557, 'favorites'), (11505, 'favorite-books'), (11497, 'favorite'), (11491, 'faves'), (11376, 'fantasy-scifi'), (11370, 'fantasy-sci-fi'), (11340, 'fantasy-fiction'), (11305, 'fantasy'), (10731, 'epic-fantasy'), (10644, 'english'), (10197, 'ebook'), (9221, 'default'), (8717, 'currently-reading'), (7852, 'coming-of-age'), (7457, 'classics'), (7404, 'classic'), (6960, 'childrens-books'), (6953, 'childrens'), (6949, 'children-young-adult'), (6948, 'children-ya'), (6920, 'children-s-literature'), (6914, 'children-s-lit'), (6895, 'children-s-books'), (6888, 'children-s'), (6857, 'children'), (6838, 'childhood-favorites'), (6829, 'childhood-books'), (6828, 'childhood'), (5751, 'british'), (5481, 'borrowed'), (5207, 'books-i-own'), (5090, 'books'), (4949, 'book-club'), (3885, 'banned-books'), (3392, 'audiobooks'), (3389, 'audiobook'), (3379, 'audio-books'), (3371, 'audio'), (2580, 'animals'), (2104, 'all-time-favorites'), (1691, 'adventure'), (1416, 'abandoned'), (1128, '5-stars'), (923, '20th-century')]\n"
     ]
    }
   ],
   "source": [
    "# get _id and tags for golden compass\n",
    "import time\n",
    "for index,item in datasets['books.csv'].iterrows():\n",
    "    if 'Golden Compass' in item['title']:\n",
    "        #print( item )\n",
    "        core_book_id = item['best_book_id']        \n",
    "book_tags = datasets['book_tags.csv']\n",
    "core_tags = set(book_tags.loc[book_tags['goodreads_book_id'] == core_book_id]['tag_id']) # Series --> set\n",
    "tag_names = dict(datasets['tags.csv'].to_dict('split')['data'])\n",
    "print('Golden Compass id:', core_book_id, 'tags:')\n",
    "print(sorted([(tag, tag_names[tag]) for tag in core_tags],key=lambda x:x[0], reverse=True))"
   ]
  },
  {
   "cell_type": "code",
   "execution_count": 5,
   "metadata": {},
   "outputs": [],
   "source": [
    "# prepare the book_tags lookup dictionary\n",
    "from collections import Counter, defaultdict\n",
    "useful = book_tags.to_dict('records')"
   ]
  },
  {
   "cell_type": "code",
   "execution_count": 7,
   "metadata": {},
   "outputs": [
    {
     "name": "stdout",
     "output_type": "stream",
     "text": [
      "top 10 books\n",
      "[(61    The Golden Compass (His Dark Materials, #1)\n",
      "Name: title, dtype: object, 100), (367    The Subtle Knife (His Dark Materials, #2)\n",
      "Name: title, dtype: object, 91), (479    The Amber Spyglass (His Dark Materials, #3)\n",
      "Name: title, dtype: object, 90), (936    His Dark Materials (His Dark Materials #1-3)\n",
      "Name: title, dtype: object, 78), (3062    The Dark Is Rising (The Dark is Rising, #2)\n",
      "Name: title, dtype: object, 75), (116    A Wrinkle in Time (A Wrinkle in Time Quintet, #1)\n",
      "Name: title, dtype: object, 74), (222    Artemis Fowl (Artemis Fowl, #1)\n",
      "Name: title, dtype: object, 74), (5462    Greenwitch (The Dark Is Rising, #3)\n",
      "Name: title, dtype: object, 73), (1154    The Amulet of Samarkand (Bartimaeus, #1)\n",
      "Name: title, dtype: object, 73), (1349    Lirael (Abhorsen, #2)\n",
      "Name: title, dtype: object, 72)]\n"
     ]
    }
   ],
   "source": [
    "# Question 3: Recommend 10 books similar to \"The Golden Compass\" by Philip Pullman.\n",
    "#\n",
    "# looking up books that have the most overlapping tags.\n",
    "# - This ignores book ratings, which would be important for recommendations.\n",
    "# - this ignores the COUNT of each tag - could be useful for filtering out less common tags and weighting others more\n",
    "# - overall, the list is very similar to Golden Compass -- too similar in fact. Includes the same author's book series in top 4.\n",
    "\n",
    "df = datasets['books.csv']\n",
    "to_read = datasets['to_read.csv'] # Index(['user_id', 'book_id'], dtype='object')\n",
    "similar = defaultdict(set) # book: set-overlapping-tags\n",
    "for x in useful: # a million rows\n",
    "    if x['tag_id'] in core_tags:\n",
    "        similar[x['goodreads_book_id']].add(x['tag_id'])\n",
    "       \n",
    "recs = sorted(similar.items(), key=lambda x: len(x[1]), reverse=True) # book_id : set(tags)\n",
    "\n",
    "print('top 10 books')\n",
    "print([(df[df['best_book_id'] == x[0]]['title'],len(x[1])) for x in recs[:10]])"
   ]
  },
  {
   "cell_type": "code",
   "execution_count": 8,
   "metadata": {},
   "outputs": [
    {
     "name": "stdout",
     "output_type": "stream",
     "text": [
      "top 10 books\n",
      "[1, 3062    The Dark Is Rising (The Dark is Rising, #2)\n",
      "Name: title, dtype: object, 75]\n",
      "[2, 116    A Wrinkle in Time (A Wrinkle in Time Quintet, #1)\n",
      "Name: title, dtype: object, 74]\n",
      "[3, 222    Artemis Fowl (Artemis Fowl, #1)\n",
      "Name: title, dtype: object, 74]\n",
      "[4, 5462    Greenwitch (The Dark Is Rising, #3)\n",
      "Name: title, dtype: object, 73]\n",
      "[5, 1154    The Amulet of Samarkand (Bartimaeus, #1)\n",
      "Name: title, dtype: object, 73]\n",
      "[6, 1349    Lirael (Abhorsen, #2)\n",
      "Name: title, dtype: object, 72]\n",
      "[7, 36    The Lion, the Witch, and the Wardrobe (Chronic...\n",
      "Name: title, dtype: object, 72]\n",
      "[8, 22    Harry Potter and the Chamber of Secrets (Harry...\n",
      "Name: title, dtype: object, 71]\n",
      "[9, 1195    A Wind in the Door (A Wrinkle in Time Quintet,...\n",
      "Name: title, dtype: object, 71]\n",
      "[10, 1297    The Golem's Eye (Bartimaeus, #2)\n",
      "Name: title, dtype: object, 71]\n"
     ]
    }
   ],
   "source": [
    "# BONUS: exclude same author from the list.\n",
    "print('top 10 books')\n",
    "found = 0\n",
    "for x in recs:\n",
    "    author = df[df['best_book_id'] == x[0]]['authors']        \n",
    "    if ('Pullman' in author.values[0]) == False:\n",
    "        print([found+1, df[df['best_book_id'] == x[0]]['title'], len(x[1])])\n",
    "        found += 1\n",
    "    if found == 10:\n",
    "        break"
   ]
  },
  {
   "cell_type": "code",
   "execution_count": 9,
   "metadata": {},
   "outputs": [
    {
     "name": "stdout",
     "output_type": "stream",
     "text": [
      "973 69 26    Harry Potter and the Half-Blood Prince (Harry ...\n",
      "Name: title, dtype: object 459028 1161491\n",
      "287 69 1    Harry Potter and the Sorcerer's Stone (Harry P...\n",
      "Name: title, dtype: object 1156318 3011543\n",
      "1293 69 17    Harry Potter and the Prisoner of Azkaban (Harr...\n",
      "Name: title, dtype: object 509447 1266670\n",
      "38 69 816    Howl's Moving Castle (Howl's Moving Castle, #1)\n",
      "Name: title, dtype: object 45058 71962\n",
      "1484 67 23    Harry Potter and the Goblet of Fire (Harry Pot...\n",
      "Name: title, dtype: object 494926 1195045\n",
      "12 66 1430    Redwall (Redwall, #1)\n",
      "Name: title, dtype: object 29384 33140\n",
      "89 64 6    The Hobbit\n",
      "Name: title, dtype: object 665635 1119718\n"
     ]
    }
   ],
   "source": [
    "# what if I sorted by books what most people have added to their \"to_read\" list?\n",
    "# result: not as useful - these are the most popular somewhat similar books, but not the MOST similar ones.\n",
    "# and the data about books on users' \"to_read\" lists is pretty sparse.\n",
    "\n",
    "for rec in recs[:100]:\n",
    "    # for new/obscure similary books: weight seldom read books more\n",
    "    total_queued = to_read[to_read['book_id'] == rec[0]]['user_id'].count()\n",
    "    #total_queued = to_read[to_read['book_id'] == rec[0]]['user_id'].count()\n",
    "    if total_queued > 0:\n",
    "        print(\n",
    "            total_queued, len(rec[1]), \n",
    "            str(df[df['book_id'] == rec[0]]['title']),\n",
    "            int(df[df['book_id'] == rec[0]]['ratings_4']),\n",
    "            int(df[df['book_id'] == rec[0]]['ratings_5'])\n",
    "        )\n",
    "#print([(df[df['best_book_id'] == x[0]]['title'],len(x[1])) for x in recs[:20]])      "
   ]
  },
  {
   "cell_type": "code",
   "execution_count": 13,
   "metadata": {},
   "outputs": [
    {
     "name": "stdout",
     "output_type": "stream",
     "text": [
      "top 10 books\n",
      "['[\"Harry Potter and the Sorcerer\\'s Stone (Harry Potter, #1)\"]: tags: 69 '\n",
      " 'count: 664668',\n",
      " \"['The Alchemist']: tags: 41 count: 646299\",\n",
      " \"['The Girl with the Dragon Tattoo (Millennium, #1)']: tags: 37 count: 636662\",\n",
      " \"['Les Misérables']: tags: 34 count: 576681\",\n",
      " \"['All the Light We Cannot See']: tags: 33 count: 563621\",\n",
      " \"['Cinder (The Lunar Chronicles, #1)']: tags: 49 count: 510381\",\n",
      " \"['Catch-22']: tags: 37 count: 504859\",\n",
      " \"['Slaughterhouse-Five']: tags: 47 count: 484893\",\n",
      " \"['Gone with the Wind']: tags: 38 count: 479669\",\n",
      " \"['A Tale of Two Cities']: tags: 36 count: 464400\"]\n"
     ]
    }
   ],
   "source": [
    "# What if I include the count of tags to filter out obscure ones? \n",
    "# rationale: tags are added to books by users, and if everyone is tagging a book the same way, it might mean something.\n",
    "# this lookup has each book and returns a Counter dict of tags and counts for that book\n",
    "# result: This is a very different list of somewhat similar books, but weighted more by popularity than similarity.\n",
    "\n",
    "similar2 = defaultdict(Counter) # book: set-overlapping-tags\n",
    "for x in useful: # a million rows\n",
    "    if x['tag_id'] in core_tags: \n",
    "        similar2[x['goodreads_book_id']][x['tag_id']] = x['count']\n",
    "    #if len(similar2) % 1000 == 0:\n",
    "    #    print(len(similar2),'books')\n",
    "    #    break\n",
    "       \n",
    "recs2 = sorted(similar2.items(), key=lambda x: sum([count for tag,count in x[1].most_common(6)]), reverse=True) # book_id : Counter(tag:count)\n",
    "\n",
    "print('top 10 books')\n",
    "pp(['{0}: tags: {1} count: {2}'.format(df[df['best_book_id'] == x[0]]['title'].values, len(x[1]), sum([count for tag,count in x[1].most_common(6)])) for x in recs2[:10]])"
   ]
  },
  {
   "cell_type": "code",
   "execution_count": 11,
   "metadata": {},
   "outputs": [],
   "source": [
    "# summary: I think the best quick \"similar books\" list sorts by number of shared tags from users, \n",
    "# excluding other books by the same author.\n",
    "#\n",
    "# for a truly effective recommendation function, I would weight by user ratings of these books and ask user if they want \n",
    "# more popular books or newer, more obscure books.\n",
    "# I could also use a tag-edge network mapping algorithm to recommend books based on aspects of the book the user liked. \n",
    "# because not all books are good for the same reason, or appeal to people for the same reasons.\n",
    "\n",
    "# note: evaluating these various sorts was easy because I had read most of these books. To optimize this without implicit knowledge,\n",
    "# one would need to devise more tests, and user validation. This is usually the case."
   ]
  }
 ],
 "metadata": {
  "kernelspec": {
   "display_name": "Python 3",
   "language": "python",
   "name": "python3"
  },
  "language_info": {
   "codemirror_mode": {
    "name": "ipython",
    "version": 3
   },
   "file_extension": ".py",
   "mimetype": "text/x-python",
   "name": "python",
   "nbconvert_exporter": "python",
   "pygments_lexer": "ipython3",
   "version": "3.7.0"
  }
 },
 "nbformat": 4,
 "nbformat_minor": 2
}
